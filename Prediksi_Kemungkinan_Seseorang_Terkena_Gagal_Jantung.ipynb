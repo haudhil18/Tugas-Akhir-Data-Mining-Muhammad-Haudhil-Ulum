{
  "nbformat": 4,
  "nbformat_minor": 0,
  "metadata": {
    "colab": {
      "name": "Prediksi Kemungkinan Seseorang Terkena Gagal Jantung.ipynb",
      "provenance": [],
      "collapsed_sections": []
    },
    "kernelspec": {
      "name": "python3",
      "display_name": "Python 3"
    },
    "language_info": {
      "name": "python"
    }
  },
  "cells": [
    {
      "cell_type": "code",
      "metadata": {
        "id": "39v6-J1zNbFJ"
      },
      "source": [
        "import numpy as np\n",
        "import matplotlib.pyplot as plt\n",
        "import pandas as pd\n",
        "import seaborn as sns\n",
        "from sklearn.metrics import accuracy_score"
      ],
      "execution_count": 1,
      "outputs": []
    },
    {
      "cell_type": "code",
      "metadata": {
        "colab": {
          "base_uri": "https://localhost:8080/",
          "height": 402
        },
        "id": "y7uH86mxRqMz",
        "outputId": "e38d8014-7481-4d6c-ee92-db3b12c0b953"
      },
      "source": [
        "dataset = pd.read_csv(\"heart_failure_dataset.csv\")\n",
        "dataset"
      ],
      "execution_count": 2,
      "outputs": [
        {
          "output_type": "execute_result",
          "data": {
            "text/html": [
              "<div>\n",
              "<style scoped>\n",
              "    .dataframe tbody tr th:only-of-type {\n",
              "        vertical-align: middle;\n",
              "    }\n",
              "\n",
              "    .dataframe tbody tr th {\n",
              "        vertical-align: top;\n",
              "    }\n",
              "\n",
              "    .dataframe thead th {\n",
              "        text-align: right;\n",
              "    }\n",
              "</style>\n",
              "<table border=\"1\" class=\"dataframe\">\n",
              "  <thead>\n",
              "    <tr style=\"text-align: right;\">\n",
              "      <th></th>\n",
              "      <th>age</th>\n",
              "      <th>anaemia</th>\n",
              "      <th>creatinine_phosphokinase</th>\n",
              "      <th>diabetes</th>\n",
              "      <th>ejection_fraction</th>\n",
              "      <th>high_blood_pressure</th>\n",
              "      <th>platelets</th>\n",
              "      <th>serum_creatinine</th>\n",
              "      <th>serum_sodium</th>\n",
              "      <th>sex</th>\n",
              "      <th>smoking</th>\n",
              "      <th>time</th>\n",
              "      <th>DEATH_EVENT</th>\n",
              "    </tr>\n",
              "  </thead>\n",
              "  <tbody>\n",
              "    <tr>\n",
              "      <th>0</th>\n",
              "      <td>75.0</td>\n",
              "      <td>0</td>\n",
              "      <td>582</td>\n",
              "      <td>0</td>\n",
              "      <td>20</td>\n",
              "      <td>1</td>\n",
              "      <td>265000.00</td>\n",
              "      <td>1.9</td>\n",
              "      <td>130</td>\n",
              "      <td>1</td>\n",
              "      <td>0</td>\n",
              "      <td>4</td>\n",
              "      <td>1</td>\n",
              "    </tr>\n",
              "    <tr>\n",
              "      <th>1</th>\n",
              "      <td>55.0</td>\n",
              "      <td>0</td>\n",
              "      <td>7861</td>\n",
              "      <td>0</td>\n",
              "      <td>38</td>\n",
              "      <td>0</td>\n",
              "      <td>263358.03</td>\n",
              "      <td>1.1</td>\n",
              "      <td>136</td>\n",
              "      <td>1</td>\n",
              "      <td>0</td>\n",
              "      <td>6</td>\n",
              "      <td>1</td>\n",
              "    </tr>\n",
              "    <tr>\n",
              "      <th>2</th>\n",
              "      <td>65.0</td>\n",
              "      <td>0</td>\n",
              "      <td>146</td>\n",
              "      <td>0</td>\n",
              "      <td>20</td>\n",
              "      <td>0</td>\n",
              "      <td>162000.00</td>\n",
              "      <td>1.3</td>\n",
              "      <td>129</td>\n",
              "      <td>1</td>\n",
              "      <td>1</td>\n",
              "      <td>7</td>\n",
              "      <td>1</td>\n",
              "    </tr>\n",
              "    <tr>\n",
              "      <th>3</th>\n",
              "      <td>50.0</td>\n",
              "      <td>1</td>\n",
              "      <td>111</td>\n",
              "      <td>0</td>\n",
              "      <td>20</td>\n",
              "      <td>0</td>\n",
              "      <td>210000.00</td>\n",
              "      <td>1.9</td>\n",
              "      <td>137</td>\n",
              "      <td>1</td>\n",
              "      <td>0</td>\n",
              "      <td>7</td>\n",
              "      <td>1</td>\n",
              "    </tr>\n",
              "    <tr>\n",
              "      <th>4</th>\n",
              "      <td>65.0</td>\n",
              "      <td>1</td>\n",
              "      <td>160</td>\n",
              "      <td>1</td>\n",
              "      <td>20</td>\n",
              "      <td>0</td>\n",
              "      <td>327000.00</td>\n",
              "      <td>2.7</td>\n",
              "      <td>116</td>\n",
              "      <td>0</td>\n",
              "      <td>0</td>\n",
              "      <td>8</td>\n",
              "      <td>1</td>\n",
              "    </tr>\n",
              "    <tr>\n",
              "      <th>...</th>\n",
              "      <td>...</td>\n",
              "      <td>...</td>\n",
              "      <td>...</td>\n",
              "      <td>...</td>\n",
              "      <td>...</td>\n",
              "      <td>...</td>\n",
              "      <td>...</td>\n",
              "      <td>...</td>\n",
              "      <td>...</td>\n",
              "      <td>...</td>\n",
              "      <td>...</td>\n",
              "      <td>...</td>\n",
              "      <td>...</td>\n",
              "    </tr>\n",
              "    <tr>\n",
              "      <th>508</th>\n",
              "      <td>72.0</td>\n",
              "      <td>0</td>\n",
              "      <td>211</td>\n",
              "      <td>0</td>\n",
              "      <td>25</td>\n",
              "      <td>0</td>\n",
              "      <td>274000.00</td>\n",
              "      <td>1.2</td>\n",
              "      <td>134</td>\n",
              "      <td>0</td>\n",
              "      <td>0</td>\n",
              "      <td>207</td>\n",
              "      <td>0</td>\n",
              "    </tr>\n",
              "    <tr>\n",
              "      <th>509</th>\n",
              "      <td>60.0</td>\n",
              "      <td>0</td>\n",
              "      <td>166</td>\n",
              "      <td>0</td>\n",
              "      <td>30</td>\n",
              "      <td>0</td>\n",
              "      <td>62000.00</td>\n",
              "      <td>1.7</td>\n",
              "      <td>127</td>\n",
              "      <td>0</td>\n",
              "      <td>0</td>\n",
              "      <td>207</td>\n",
              "      <td>1</td>\n",
              "    </tr>\n",
              "    <tr>\n",
              "      <th>510</th>\n",
              "      <td>70.0</td>\n",
              "      <td>0</td>\n",
              "      <td>93</td>\n",
              "      <td>0</td>\n",
              "      <td>35</td>\n",
              "      <td>0</td>\n",
              "      <td>185000.00</td>\n",
              "      <td>1.1</td>\n",
              "      <td>134</td>\n",
              "      <td>1</td>\n",
              "      <td>1</td>\n",
              "      <td>208</td>\n",
              "      <td>1</td>\n",
              "    </tr>\n",
              "    <tr>\n",
              "      <th>511</th>\n",
              "      <td>40.0</td>\n",
              "      <td>1</td>\n",
              "      <td>129</td>\n",
              "      <td>0</td>\n",
              "      <td>35</td>\n",
              "      <td>0</td>\n",
              "      <td>255000.00</td>\n",
              "      <td>0.9</td>\n",
              "      <td>137</td>\n",
              "      <td>1</td>\n",
              "      <td>0</td>\n",
              "      <td>209</td>\n",
              "      <td>1</td>\n",
              "    </tr>\n",
              "    <tr>\n",
              "      <th>512</th>\n",
              "      <td>53.0</td>\n",
              "      <td>1</td>\n",
              "      <td>323</td>\n",
              "      <td>0</td>\n",
              "      <td>38</td>\n",
              "      <td>0</td>\n",
              "      <td>330000.00</td>\n",
              "      <td>1.4</td>\n",
              "      <td>137</td>\n",
              "      <td>1</td>\n",
              "      <td>1</td>\n",
              "      <td>209</td>\n",
              "      <td>1</td>\n",
              "    </tr>\n",
              "  </tbody>\n",
              "</table>\n",
              "<p>513 rows × 13 columns</p>\n",
              "</div>"
            ],
            "text/plain": [
              "      age  anaemia  creatinine_phosphokinase  ...  smoking  time  DEATH_EVENT\n",
              "0    75.0        0                       582  ...        0     4            1\n",
              "1    55.0        0                      7861  ...        0     6            1\n",
              "2    65.0        0                       146  ...        1     7            1\n",
              "3    50.0        1                       111  ...        0     7            1\n",
              "4    65.0        1                       160  ...        0     8            1\n",
              "..    ...      ...                       ...  ...      ...   ...          ...\n",
              "508  72.0        0                       211  ...        0   207            0\n",
              "509  60.0        0                       166  ...        0   207            1\n",
              "510  70.0        0                        93  ...        1   208            1\n",
              "511  40.0        1                       129  ...        0   209            1\n",
              "512  53.0        1                       323  ...        1   209            1\n",
              "\n",
              "[513 rows x 13 columns]"
            ]
          },
          "metadata": {
            "tags": []
          },
          "execution_count": 2
        }
      ]
    },
    {
      "cell_type": "code",
      "metadata": {
        "colab": {
          "base_uri": "https://localhost:8080/",
          "height": 297
        },
        "id": "fcDK2997TYo_",
        "outputId": "37348252-376d-49dd-bee9-e720fa6268c4"
      },
      "source": [
        "sns.countplot(x='DEATH_EVENT', data=dataset)"
      ],
      "execution_count": 3,
      "outputs": [
        {
          "output_type": "execute_result",
          "data": {
            "text/plain": [
              "<matplotlib.axes._subplots.AxesSubplot at 0x7fe22673c3d0>"
            ]
          },
          "metadata": {
            "tags": []
          },
          "execution_count": 3
        },
        {
          "output_type": "display_data",
          "data": {
            "image/png": "[encoded data removed]",
            "text/plain": [
              "<Figure size 432x288 with 1 Axes>"
            ]
          },
          "metadata": {
            "tags": [],
            "needs_background": "light"
          }
        }
      ]
    },
    {
      "cell_type": "code",
      "metadata": {
        "colab": {
          "base_uri": "https://localhost:8080/",
          "height": 297
        },
        "id": "SO6E11luX6Rr",
        "outputId": "76ed535d-ed5e-429a-afd8-e188c46e7ccf"
      },
      "source": [
        "sns.countplot(x='DEATH_EVENT',data=dataset,hue='high_blood_pressure')"
      ],
      "execution_count": 4,
      "outputs": [
        {
          "output_type": "execute_result",
          "data": {
            "text/plain": [
              "<matplotlib.axes._subplots.AxesSubplot at 0x7fe2261d65d0>"
            ]
          },
          "metadata": {
            "tags": []
          },
          "execution_count": 4
        },
        {
          "output_type": "display_data",
          "data": {
            "image/png": "[encoded data removed]",
            "text/plain": [
              "<Figure size 432x288 with 1 Axes>"
            ]
          },
          "metadata": {
            "tags": [],
            "needs_background": "light"
          }
        }
      ]
    },
    {
      "cell_type": "code",
      "metadata": {
        "colab": {
          "base_uri": "https://localhost:8080/",
          "height": 402
        },
        "id": "8r1OejTucgwf",
        "outputId": "a6fc110e-b684-42e9-874c-24cc75f7a27c"
      },
      "source": [
        "dataset.drop(['anaemia','creatinine_phosphokinase','diabetes','ejection_fraction','high_blood_pressure','serum_creatinine','serum_sodium','sex','smoking', 'time'], \n",
        "             axis=1,inplace=True)\n",
        "dataset"
      ],
      "execution_count": 5,
      "outputs": [
        {
          "output_type": "execute_result",
          "data": {
            "text/html": [
              "<div>\n",
              "<style scoped>\n",
              "    .dataframe tbody tr th:only-of-type {\n",
              "        vertical-align: middle;\n",
              "    }\n",
              "\n",
              "    .dataframe tbody tr th {\n",
              "        vertical-align: top;\n",
              "    }\n",
              "\n",
              "    .dataframe thead th {\n",
              "        text-align: right;\n",
              "    }\n",
              "</style>\n",
              "<table border=\"1\" class=\"dataframe\">\n",
              "  <thead>\n",
              "    <tr style=\"text-align: right;\">\n",
              "      <th></th>\n",
              "      <th>age</th>\n",
              "      <th>platelets</th>\n",
              "      <th>DEATH_EVENT</th>\n",
              "    </tr>\n",
              "  </thead>\n",
              "  <tbody>\n",
              "    <tr>\n",
              "      <th>0</th>\n",
              "      <td>75.0</td>\n",
              "      <td>265000.00</td>\n",
              "      <td>1</td>\n",
              "    </tr>\n",
              "    <tr>\n",
              "      <th>1</th>\n",
              "      <td>55.0</td>\n",
              "      <td>263358.03</td>\n",
              "      <td>1</td>\n",
              "    </tr>\n",
              "    <tr>\n",
              "      <th>2</th>\n",
              "      <td>65.0</td>\n",
              "      <td>162000.00</td>\n",
              "      <td>1</td>\n",
              "    </tr>\n",
              "    <tr>\n",
              "      <th>3</th>\n",
              "      <td>50.0</td>\n",
              "      <td>210000.00</td>\n",
              "      <td>1</td>\n",
              "    </tr>\n",
              "    <tr>\n",
              "      <th>4</th>\n",
              "      <td>65.0</td>\n",
              "      <td>327000.00</td>\n",
              "      <td>1</td>\n",
              "    </tr>\n",
              "    <tr>\n",
              "      <th>...</th>\n",
              "      <td>...</td>\n",
              "      <td>...</td>\n",
              "      <td>...</td>\n",
              "    </tr>\n",
              "    <tr>\n",
              "      <th>508</th>\n",
              "      <td>72.0</td>\n",
              "      <td>274000.00</td>\n",
              "      <td>0</td>\n",
              "    </tr>\n",
              "    <tr>\n",
              "      <th>509</th>\n",
              "      <td>60.0</td>\n",
              "      <td>62000.00</td>\n",
              "      <td>1</td>\n",
              "    </tr>\n",
              "    <tr>\n",
              "      <th>510</th>\n",
              "      <td>70.0</td>\n",
              "      <td>185000.00</td>\n",
              "      <td>1</td>\n",
              "    </tr>\n",
              "    <tr>\n",
              "      <th>511</th>\n",
              "      <td>40.0</td>\n",
              "      <td>255000.00</td>\n",
              "      <td>1</td>\n",
              "    </tr>\n",
              "    <tr>\n",
              "      <th>512</th>\n",
              "      <td>53.0</td>\n",
              "      <td>330000.00</td>\n",
              "      <td>1</td>\n",
              "    </tr>\n",
              "  </tbody>\n",
              "</table>\n",
              "<p>513 rows × 3 columns</p>\n",
              "</div>"
            ],
            "text/plain": [
              "      age  platelets  DEATH_EVENT\n",
              "0    75.0  265000.00            1\n",
              "1    55.0  263358.03            1\n",
              "2    65.0  162000.00            1\n",
              "3    50.0  210000.00            1\n",
              "4    65.0  327000.00            1\n",
              "..    ...        ...          ...\n",
              "508  72.0  274000.00            0\n",
              "509  60.0   62000.00            1\n",
              "510  70.0  185000.00            1\n",
              "511  40.0  255000.00            1\n",
              "512  53.0  330000.00            1\n",
              "\n",
              "[513 rows x 3 columns]"
            ]
          },
          "metadata": {
            "tags": []
          },
          "execution_count": 5
        }
      ]
    },
    {
      "cell_type": "code",
      "metadata": {
        "id": "bBBcuf2YfDX8"
      },
      "source": [
        "from sklearn.model_selection import train_test_split\n",
        "x=dataset.drop('DEATH_EVENT',axis=1)\n",
        "y=dataset['DEATH_EVENT']\n",
        "x_train, x_test, y_train, y_test = train_test_split(x,y,test_size=0.25,random_state=0)"
      ],
      "execution_count": 6,
      "outputs": []
    },
    {
      "cell_type": "code",
      "metadata": {
        "colab": {
          "base_uri": "https://localhost:8080/"
        },
        "id": "i6xZncmmgbs7",
        "outputId": "eb78e292-4249-4a8e-f952-b00628bd0d33"
      },
      "source": [
        "print(x_train)"
      ],
      "execution_count": 7,
      "outputs": [
        {
          "output_type": "stream",
          "text": [
            "      age  platelets\n",
            "487  60.0   283000.0\n",
            "59   72.0   254000.0\n",
            "463  57.0   395000.0\n",
            "403  65.0   276000.0\n",
            "424  50.0   153000.0\n",
            "..    ...        ...\n",
            "359  60.0   365000.0\n",
            "195  77.0   223000.0\n",
            "251  55.0   231000.0\n",
            "323  82.0    47000.0\n",
            "192  50.0   260000.0\n",
            "\n",
            "[384 rows x 2 columns]\n"
          ],
          "name": "stdout"
        }
      ]
    },
    {
      "cell_type": "code",
      "metadata": {
        "colab": {
          "base_uri": "https://localhost:8080/"
        },
        "id": "CM3xtPFQiE6g",
        "outputId": "5052603c-3a3d-4ce3-98d7-1184f53e8f48"
      },
      "source": [
        " print(x_test)"
      ],
      "execution_count": 8,
      "outputs": [
        {
          "output_type": "stream",
          "text": [
            "      age  platelets\n",
            "283  65.0  263358.03\n",
            "100  65.0  298000.00\n",
            "37   82.0  321000.00\n",
            "46   51.0  271000.00\n",
            "374  65.0  263358.03\n",
            "..    ...        ...\n",
            "379  55.0  270000.00\n",
            "49   57.0  395000.00\n",
            "281  70.0   51000.00\n",
            "231  70.0  185000.00\n",
            "124  60.0  217000.00\n",
            "\n",
            "[129 rows x 2 columns]\n"
          ],
          "name": "stdout"
        }
      ]
    },
    {
      "cell_type": "code",
      "metadata": {
        "colab": {
          "base_uri": "https://localhost:8080/"
        },
        "id": "-p4ND9ApiK7P",
        "outputId": "9895903c-bf87-43b1-9985-0fba35da2e4d"
      },
      "source": [
        "print(y_train)"
      ],
      "execution_count": 9,
      "outputs": [
        {
          "output_type": "stream",
          "text": [
            "487    0\n",
            "59     1\n",
            "463    1\n",
            "403    0\n",
            "424    1\n",
            "      ..\n",
            "359    1\n",
            "195    1\n",
            "251    0\n",
            "323    1\n",
            "192    0\n",
            "Name: DEATH_EVENT, Length: 384, dtype: int64\n"
          ],
          "name": "stdout"
        }
      ]
    },
    {
      "cell_type": "code",
      "metadata": {
        "colab": {
          "base_uri": "https://localhost:8080/"
        },
        "id": "SdGPNhUXiQdr",
        "outputId": "4b5336bb-3a3c-42fa-a325-f8756edc219c"
      },
      "source": [
        "print(y_test)"
      ],
      "execution_count": 10,
      "outputs": [
        {
          "output_type": "stream",
          "text": [
            "283    0\n",
            "100    0\n",
            "37     1\n",
            "46     1\n",
            "374    0\n",
            "      ..\n",
            "379    0\n",
            "49     1\n",
            "281    0\n",
            "231    0\n",
            "124    1\n",
            "Name: DEATH_EVENT, Length: 129, dtype: int64\n"
          ],
          "name": "stdout"
        }
      ]
    },
    {
      "cell_type": "code",
      "metadata": {
        "id": "ikA8u4Kqiffy"
      },
      "source": [
        "from sklearn.preprocessing import StandardScaler\n",
        "sc = StandardScaler()\n",
        "x_train = sc.fit_transform(x_train)\n",
        "x_test = sc.transform(x_test)"
      ],
      "execution_count": 11,
      "outputs": []
    },
    {
      "cell_type": "code",
      "metadata": {
        "colab": {
          "base_uri": "https://localhost:8080/"
        },
        "id": "0VKhLvRUi8MI",
        "outputId": "da0422fb-98be-42cf-d531-c167f8111577"
      },
      "source": [
        "print(x_train)"
      ],
      "execution_count": 12,
      "outputs": [
        {
          "output_type": "stream",
          "text": [
            "[[-1.11100651e-01  2.52034874e-01]\n",
            " [ 8.41662065e-01 -4.82494848e-02]\n",
            " [-3.49291330e-01  1.41175378e+00]\n",
            " [ 2.85883814e-01  1.79552443e-01]\n",
            " [-9.05069582e-01 -1.09406743e+00]\n",
            " [-1.54024473e+00  1.10111479e+00]\n",
            " [-9.05069582e-01 -7.21300635e-01]\n",
            " [-9.05069582e-01  7.28347996e-01]\n",
            " [ 2.66779060e+00  2.09515956e+00]\n",
            " [-7.46275796e-01  6.86929463e-01]\n",
            " [ 8.41662065e-01  8.21539693e-01]\n",
            " [-9.05069582e-01  1.58843177e-01]\n",
            " [-1.06386337e+00 -1.77747321e+00]\n",
            " [ 1.47683721e+00  1.33927135e+00]\n",
            " [-6.66878903e-01  7.38702629e-01]\n",
            " [-9.05069582e-01 -7.21300635e-01]\n",
            " [-1.11100651e-01  4.86494821e-02]\n",
            " [ 6.03471386e-01  7.60061121e-02]\n",
            " [ 2.66779060e+00 -6.48818203e-01]\n",
            " [ 6.82868279e-01  1.34962598e+00]\n",
            " [ 2.85883814e-01  7.07638730e-01]\n",
            " [ 6.82868279e-01 -2.24278247e-01]\n",
            " [-6.66878903e-01 -3.69243110e-01]\n",
            " [-6.66878903e-01  4.86494821e-02]\n",
            " [ 2.27080614e+00 -5.65981139e-01]\n",
            " [-1.22265715e+00  9.25086024e-01]\n",
            " [ 6.03471386e-01 -3.17469945e-01]\n",
            " [ 1.07985274e+00  4.86494821e-02]\n",
            " [ 2.85883814e-01 -1.00087573e+00]\n",
            " [-1.11100651e-01 -3.17469945e-01]\n",
            " [ 5.24074493e-01  3.14162673e-01]\n",
            " [ 6.82868279e-01 -1.51795816e-01]\n",
            " [ 2.85883814e-01  1.79552443e-01]\n",
            " [ 6.82868279e-01 -1.82859715e-01]\n",
            " [-9.84466475e-01  1.74310204e+00]\n",
            " [-1.11100651e-01 -4.41725542e-01]\n",
            " [-1.11100651e-01  2.10616342e-01]\n",
            " [ 2.06486921e-01  5.21255334e-01]\n",
            " [-1.30205405e+00  4.86494821e-02]\n",
            " [ 3.65280707e-01 -1.72505082e-01]\n",
            " [ 6.82868279e-01  2.84069314e+00]\n",
            " [ 4.44677600e-01  4.86494821e-02]\n",
            " [ 6.82868279e-01 -2.15024000e+00]\n",
            " [ 6.82868279e-01 -8.86974764e-01]\n",
            " [ 1.27090028e-01 -1.92243807e+00]\n",
            " [ 6.82868279e-01  1.02863235e+00]\n",
            " [ 2.66779060e+00  2.09515956e+00]\n",
            " [ 3.65280707e-01 -1.72505082e-01]\n",
            " [ 2.85883814e-01  3.24517306e-01]\n",
            " [ 5.24074493e-01  3.14162673e-01]\n",
            " [-1.69903851e+00 -3.38179211e-01]\n",
            " [ 1.87382167e+00 -2.44987513e-01]\n",
            " [-5.08085117e-01  5.73028500e-01]\n",
            " [-6.66878903e-01  1.64991034e+00]\n",
            " [-1.06386337e+00 -1.77747321e+00]\n",
            " [ 2.85883814e-01  3.52368056e-03]\n",
            " [-9.05069582e-01  1.07005089e+00]\n",
            " [-1.30205405e+00  7.80121161e-01]\n",
            " [-5.08085117e-01  4.49422129e-02]\n",
            " [-9.84466475e-01  1.74310204e+00]\n",
            " [-1.30205405e+00  1.30820745e+00]\n",
            " [-1.90497544e-01 -3.89952376e-01]\n",
            " [-9.05069582e-01 -1.09406743e+00]\n",
            " [ 2.06486921e-01 -1.72505082e-01]\n",
            " [-1.90497544e-01  1.07005089e+00]\n",
            " [-1.54024473e+00 -7.21300635e-01]\n",
            " [-3.49291330e-01 -8.04137699e-01]\n",
            " [-1.30205405e+00 -1.27009619e+00]\n",
            " [ 4.44677600e-01 -4.52080175e-01]\n",
            " [-1.11100651e-01 -5.03853340e-01]\n",
            " [-6.66878903e-01  7.38702629e-01]\n",
            " [-1.30205405e+00 -1.37364252e+00]\n",
            " [ 9.21058958e-01 -4.00307009e-01]\n",
            " [ 2.85883814e-01  2.31325608e-01]\n",
            " [-1.54024473e+00  4.86494821e-02]\n",
            " [ 6.82868279e-01 -2.24278247e-01]\n",
            " [ 5.24074493e-01 -5.24562606e-01]\n",
            " [-9.05069582e-01  2.10616342e-01]\n",
            " [-9.05069582e-01  7.60061121e-02]\n",
            " [ 1.87382167e+00 -2.44987513e-01]\n",
            " [ 8.41662065e-01 -2.44987513e-01]\n",
            " [ 6.82868279e-01 -2.34632880e-01]\n",
            " [ 9.21058958e-01 -5.76335772e-01]\n",
            " [-1.90497544e-01 -1.95350197e+00]\n",
            " [-8.25672689e-01  1.52565474e+00]\n",
            " [-5.08085117e-01  4.86494821e-02]\n",
            " [-2.69894437e-01 -7.21300635e-01]\n",
            " [-1.54024473e+00 -4.72789441e-01]\n",
            " [ 5.24074493e-01  3.14162673e-01]\n",
            " [ 4.76931347e-02  2.52034874e-01]\n",
            " [ 1.47683721e+00  4.86494821e-02]\n",
            " [ 1.07985274e+00  4.86494821e-02]\n",
            " [ 6.82868279e-01 -2.24278247e-01]\n",
            " [ 2.85883814e-01 -1.00087573e+00]\n",
            " [-1.11100651e-01  4.79836802e-01]\n",
            " [ 2.85883814e-01 -6.69527469e-01]\n",
            " [-1.30205405e+00 -9.59457195e-01]\n",
            " [-7.46275796e-01 -4.21016276e-01]\n",
            " [-1.11100651e-01 -4.83144074e-01]\n",
            " [ 2.85883814e-01  3.96999737e-01]\n",
            " [ 2.58839371e+00  4.86494821e-02]\n",
            " [-1.11100651e-01  7.17993363e-01]\n",
            " [ 2.85883814e-01 -1.00022650e-01]\n",
            " [-1.54024473e+00 -3.38179211e-01]\n",
            " [ 1.87382167e+00  1.04934162e+00]\n",
            " [-3.17037583e-02  2.41680241e-01]\n",
            " [ 6.03471386e-01 -1.59108981e+00]\n",
            " [-1.30205405e+00 -1.27009619e+00]\n",
            " [-1.11100651e-01  1.27779277e-01]\n",
            " [ 2.85883814e-01  1.17424644e-01]\n",
            " [-9.05069582e-01  5.31609967e-01]\n",
            " [-1.11100651e-01 -5.03853340e-01]\n",
            " [-1.30205405e+00  4.48772903e-01]\n",
            " [-9.05069582e-01 -6.89587510e-02]\n",
            " [ 4.76931347e-02 -5.86041179e-02]\n",
            " [-1.38145094e+00  4.86494821e-02]\n",
            " [-1.54024473e+00 -4.52080175e-01]\n",
            " [ 2.85883814e-01 -8.97329397e-01]\n",
            " [ 1.47683721e+00  9.45795290e-01]\n",
            " [ 1.87382167e+00  1.04934162e+00]\n",
            " [-1.90497544e-01 -3.89952376e-01]\n",
            " [-1.22265715e+00  1.27779277e-01]\n",
            " [-1.11100651e-01  4.86494821e-02]\n",
            " [ 2.85883814e-01 -7.31655268e-01]\n",
            " [-6.66878903e-01  1.64991034e+00]\n",
            " [-1.11100651e-01 -6.69527469e-01]\n",
            " [-5.08085117e-01  1.99161323e+00]\n",
            " [-7.46275796e-01  7.80121161e-01]\n",
            " [-1.69903851e+00 -3.78948517e-02]\n",
            " [ 1.27090028e-01  3.76290471e-01]\n",
            " [-9.05069582e-01  4.48772903e-01]\n",
            " [ 1.31804342e+00  2.30225222e+00]\n",
            " [-1.11100651e-01 -6.69527469e-01]\n",
            " [-9.05069582e-01 -4.41725542e-01]\n",
            " [-1.11100651e-01  4.86494821e-02]\n",
            " [-5.08085117e-01  2.10616342e-01]\n",
            " [-1.69903851e+00  4.59127536e-01]\n",
            " [ 5.24074493e-01  1.27779277e-01]\n",
            " [ 2.85883814e-01 -1.13548596e+00]\n",
            " [ 6.03471386e-01 -3.17469945e-01]\n",
            " [-5.08085117e-01  1.17424644e-01]\n",
            " [ 1.63563100e+00 -6.07399671e-01]\n",
            " [-9.05069582e-01  1.41175378e+00]\n",
            " [ 1.27090028e-01  8.63607452e-02]\n",
            " [ 8.41662065e-01 -4.21016276e-01]\n",
            " [-5.87482010e-01 -1.11477669e+00]\n",
            " [ 6.82868279e-01  2.62389507e-01]\n",
            " [ 6.03471386e-01 -3.17469945e-01]\n",
            " [-8.25672689e-01 -3.89952376e-01]\n",
            " [-7.46275796e-01  1.89907076e-01]\n",
            " [ 2.27080614e+00 -3.38179211e-01]\n",
            " [ 2.85883814e-01  6.56514790e-02]\n",
            " [ 4.76931347e-02 -3.89952376e-01]\n",
            " [ 1.31804342e+00  2.30225222e+00]\n",
            " [-1.11100651e-01  2.83098774e-01]\n",
            " [ 8.41662065e-01  1.58843177e-01]\n",
            " [ 1.07985274e+00 -3.58888477e-01]\n",
            " [-5.81429237e-02 -5.97045038e-01]\n",
            " [ 9.21058958e-01 -5.76335772e-01]\n",
            " [-6.66878903e-01  1.13217869e+00]\n",
            " [-1.69903851e+00  1.69197810e-01]\n",
            " [ 2.85883814e-01  3.24517306e-01]\n",
            " [ 5.24074493e-01 -9.59457195e-01]\n",
            " [ 1.31804342e+00  1.89907076e-01]\n",
            " [-6.66878903e-01  4.79836802e-01]\n",
            " [-6.66878903e-01  5.10900701e-01]\n",
            " [ 8.41662065e-01  1.58843177e-01]\n",
            " [ 1.07985274e+00  4.86494821e-02]\n",
            " [ 6.82868279e-01  1.02863235e+00]\n",
            " [-1.14326026e+00 -1.33222399e+00]\n",
            " [-6.66878903e-01 -3.27824578e-01]\n",
            " [-5.08085117e-01 -3.17469945e-01]\n",
            " [-6.66878903e-01 -4.00307009e-01]\n",
            " [-1.11100651e-01  1.99161323e+00]\n",
            " [ 1.07985274e+00  4.86494821e-02]\n",
            " [ 6.82868279e-01  4.86494821e-02]\n",
            " [-1.11100651e-01 -1.12513132e+00]\n",
            " [-1.54024473e+00 -4.52080175e-01]\n",
            " [-5.08085117e-01  6.76574830e-01]\n",
            " [-9.05069582e-01  7.28347996e-01]\n",
            " [-6.66878903e-01  1.13217869e+00]\n",
            " [-9.05069582e-01  1.79552443e-01]\n",
            " [ 6.82868279e-01 -1.82859715e-01]\n",
            " [-1.11100651e-01  7.28347996e-01]\n",
            " [ 6.82868279e-01 -7.62719167e-01]\n",
            " [ 2.85883814e-01 -2.24278247e-01]\n",
            " [-1.30205405e+00 -8.76620131e-01]\n",
            " [ 1.39744032e+00 -8.97329397e-01]\n",
            " [ 1.87382167e+00  2.57147268e+00]\n",
            " [-9.84466475e-01  9.67153782e-02]\n",
            " [ 1.87382167e+00  4.90191435e-01]\n",
            " [-1.11100651e-01 -3.17469945e-01]\n",
            " [-9.05069582e-01 -7.73073800e-01]\n",
            " [ 2.03261546e+00  3.45875798e-02]\n",
            " [ 6.03471386e-01 -1.59108981e+00]\n",
            " [-1.30205405e+00  6.12311183e+00]\n",
            " [ 6.82868279e-01 -2.41842500e+00]\n",
            " [-9.05069582e-01 -4.93498707e-01]\n",
            " [ 6.82868279e-01 -8.86974764e-01]\n",
            " [-5.08085117e-01 -5.76335772e-01]\n",
            " [ 2.85883814e-01  4.86494821e-02]\n",
            " [-5.87482010e-01  5.52968459e-02]\n",
            " [-1.69903851e+00 -3.78948517e-02]\n",
            " [ 2.58839371e+00  4.86494821e-02]\n",
            " [-1.69903851e+00  4.38418270e-01]\n",
            " [-9.05069582e-01 -1.15619522e+00]\n",
            " [ 8.41662065e-01 -4.21016276e-01]\n",
            " [-1.06386337e+00 -1.77747321e+00]\n",
            " [ 2.85883814e-01  1.79552443e-01]\n",
            " [-1.30205405e+00  5.00481146e+00]\n",
            " [-1.69903851e+00 -3.79597743e-01]\n",
            " [-2.69894437e-01 -7.21300635e-01]\n",
            " [ 6.82868279e-01  9.56149923e-01]\n",
            " [-9.05069582e-01 -5.03853340e-01]\n",
            " [-3.49291330e-01  1.41175378e+00]\n",
            " [-1.46084783e+00 -2.24278247e-01]\n",
            " [ 6.82868279e-01 -1.82859715e-01]\n",
            " [-5.08085117e-01  1.99161323e+00]\n",
            " [-1.54024473e+00 -2.24278247e-01]\n",
            " [-2.69894437e-01 -4.10661642e-01]\n",
            " [-9.05069582e-01  4.86494821e-02]\n",
            " [-1.06386337e+00 -1.51795816e-01]\n",
            " [-1.30205405e+00  1.69132887e+00]\n",
            " [ 4.76931347e-02 -1.07335816e+00]\n",
            " [-7.46275796e-01  1.89907076e-01]\n",
            " [ 2.85883814e-01  6.56514790e-02]\n",
            " [-1.11100651e-01  1.99161323e+00]\n",
            " [ 6.82868279e-01  3.55581205e-01]\n",
            " [-6.66878903e-01  4.79836802e-01]\n",
            " [-1.30205405e+00 -2.65696779e-01]\n",
            " [ 4.76931347e-02 -5.86041179e-02]\n",
            " [-1.30205405e+00 -1.22867766e+00]\n",
            " [-5.08085117e-01 -8.86974764e-01]\n",
            " [-5.08085117e-01  4.86494821e-02]\n",
            " [ 2.27080614e+00 -3.38179211e-01]\n",
            " [-5.87482010e-01 -1.11477669e+00]\n",
            " [-9.84466475e-01  6.24801665e-01]\n",
            " [-9.05069582e-01 -1.09406743e+00]\n",
            " [-1.38145094e+00  4.86494821e-02]\n",
            " [ 5.24074493e-01 -9.59457195e-01]\n",
            " [-9.84466475e-01  9.67153782e-02]\n",
            " [ 6.82868279e-01  2.62389507e-01]\n",
            " [ 2.66779060e+00 -6.48818203e-01]\n",
            " [-8.25672689e-01  1.27779277e-01]\n",
            " [-1.11100651e-01 -1.36328789e+00]\n",
            " [-1.54024473e+00  1.10111479e+00]\n",
            " [-5.08085117e-01 -4.82494848e-02]\n",
            " [ 1.07985274e+00 -3.48533844e-01]\n",
            " [-1.11100651e-01  2.10616342e-01]\n",
            " [-6.66878903e-01 -1.00022650e-01]\n",
            " [-1.11100651e-01  1.10111479e+00]\n",
            " [-6.66878903e-01  1.13217869e+00]\n",
            " [ 8.41662065e-01 -4.21016276e-01]\n",
            " [-1.30205405e+00 -8.76620131e-01]\n",
            " [ 1.07985274e+00  6.56514790e-02]\n",
            " [ 1.07985274e+00  6.56514790e-02]\n",
            " [-1.30205405e+00  1.22537038e+00]\n",
            " [ 6.82868279e-01 -2.41842500e+00]\n",
            " [-7.46275796e-01 -4.21016276e-01]\n",
            " [-1.11100651e-01  6.14447032e-01]\n",
            " [ 2.85883814e-01  7.07638730e-01]\n",
            " [-9.84466475e-01 -1.31151472e+00]\n",
            " [-1.30205405e+00  1.69132887e+00]\n",
            " [-2.69894437e-01  2.54040878e+00]\n",
            " [ 1.27090028e-01  8.63607452e-02]\n",
            " [-9.05069582e-01 -2.76051412e-01]\n",
            " [ 2.85883814e-01  3.65935838e-01]\n",
            " [-2.69894437e-01  7.07638730e-01]\n",
            " [-1.30205405e+00  1.22537038e+00]\n",
            " [-2.69894437e-01 -4.10661642e-01]\n",
            " [ 6.82868279e-01 -7.62719167e-01]\n",
            " [ 6.82868279e-01  4.79836802e-01]\n",
            " [ 2.85883814e-01  2.46792635e+00]\n",
            " [ 6.82868279e-01  7.07638730e-01]\n",
            " [ 1.47683721e+00 -1.22867766e+00]\n",
            " [-9.05069582e-01  4.48772903e-01]\n",
            " [-1.54024473e+00 -4.52080175e-01]\n",
            " [-9.84466475e-01  1.74310204e+00]\n",
            " [ 1.87382167e+00 -7.52364534e-01]\n",
            " [-5.08085117e-01  1.99161323e+00]\n",
            " [-5.08085117e-01 -1.21832302e+00]\n",
            " [ 1.07985274e+00 -3.48533844e-01]\n",
            " [-3.17037583e-02 -3.07115312e-01]\n",
            " [ 2.66779060e+00 -6.48818203e-01]\n",
            " [-1.69903851e+00  4.59127536e-01]\n",
            " [-2.69894437e-01 -4.10661642e-01]\n",
            " [-1.11100651e-01 -8.96680171e-02]\n",
            " [ 1.47683721e+00 -1.22867766e+00]\n",
            " [-1.11100651e-01  1.99161323e+00]\n",
            " [ 2.85883814e-01 -6.28108937e-01]\n",
            " [ 2.03261546e+00  3.45875798e-02]\n",
            " [-1.11100651e-01 -4.83144074e-01]\n",
            " [-1.90497544e-01  4.48772903e-01]\n",
            " [ 3.65280707e-01 -1.00087573e+00]\n",
            " [-5.08085117e-01  1.16324258e+00]\n",
            " [-9.05069582e-01  2.10616342e-01]\n",
            " [-1.30205405e+00  4.86494821e-02]\n",
            " [-1.11100651e-01 -3.78948517e-02]\n",
            " [-5.08085117e-01  4.86494821e-02]\n",
            " [-1.11100651e-01  3.96999737e-01]\n",
            " [-1.11100651e-01 -6.48818203e-01]\n",
            " [-4.28688223e-01 -1.30116009e+00]\n",
            " [ 1.95321857e+00  4.86494821e-02]\n",
            " [-9.05069582e-01 -1.09406743e+00]\n",
            " [-9.05069582e-01  2.10616342e-01]\n",
            " [-1.11100651e-01 -4.41725542e-01]\n",
            " [ 6.82868279e-01 -7.62719167e-01]\n",
            " [-9.05069582e-01  1.79552443e-01]\n",
            " [-2.69894437e-01 -5.86041179e-02]\n",
            " [-5.08085117e-01  8.00830427e-01]\n",
            " [-8.25672689e-01  1.27779277e-01]\n",
            " [ 6.82868279e-01 -7.62719167e-01]\n",
            " [ 8.41662065e-01  3.75190085e+00]\n",
            " [ 2.27080614e+00 -5.65981139e-01]\n",
            " [ 1.27090028e-01 -1.92243807e+00]\n",
            " [-1.54024473e+00 -7.21300635e-01]\n",
            " [-1.11100651e-01 -6.69527469e-01]\n",
            " [-1.11100651e-01  4.79836802e-01]\n",
            " [ 1.07985274e+00 -1.36328789e+00]\n",
            " [ 6.82868279e-01  9.56149923e-01]\n",
            " [ 1.63563100e+00  6.45510931e-01]\n",
            " [-9.05069582e-01  3.45875798e-02]\n",
            " [-3.17037583e-02  8.63607452e-02]\n",
            " [ 2.85883814e-01  4.86494821e-02]\n",
            " [-2.69894437e-01 -1.09406743e+00]\n",
            " [ 1.07985274e+00 -3.58888477e-01]\n",
            " [-5.08085117e-01  1.99161323e+00]\n",
            " [-9.05069582e-01 -1.90172881e+00]\n",
            " [ 4.76931347e-02 -1.51795816e-01]\n",
            " [-5.87482010e-01  5.52968459e-02]\n",
            " [ 6.82868279e-01 -4.00307009e-01]\n",
            " [ 1.87382167e+00  1.04934162e+00]\n",
            " [-9.05069582e-01  6.24801665e-01]\n",
            " [-2.69894437e-01  4.28063637e-01]\n",
            " [-5.81429237e-02  1.34962598e+00]\n",
            " [-1.69903851e+00 -3.38179211e-01]\n",
            " [-1.11100651e-01 -6.69527469e-01]\n",
            " [ 6.82868279e-01 -2.15024000e+00]\n",
            " [ 6.82868279e-01  4.86494821e-02]\n",
            " [ 1.63563100e+00 -2.19165853e+00]\n",
            " [ 6.82868279e-01 -3.69243110e-01]\n",
            " [ 2.06486921e-01 -1.72505082e-01]\n",
            " [-9.05069582e-01 -2.76051412e-01]\n",
            " [ 6.82868279e-01 -4.00307009e-01]\n",
            " [-9.84466475e-01 -1.31151472e+00]\n",
            " [ 2.85883814e-01 -6.69527469e-01]\n",
            " [ 1.27090028e-01 -3.89952376e-01]\n",
            " [ 2.58839371e+00  4.86494821e-02]\n",
            " [ 2.85883814e-01 -2.44987513e-01]\n",
            " [ 1.47683721e+00 -1.22867766e+00]\n",
            " [ 6.82868279e-01  2.62389507e-01]\n",
            " [ 2.85883814e-01  3.52368056e-03]\n",
            " [ 9.21058958e-01 -4.00307009e-01]\n",
            " [ 5.24074493e-01 -9.59457195e-01]\n",
            " [-2.69894437e-01 -9.80166462e-01]\n",
            " [ 2.85883814e-01  3.96999737e-01]\n",
            " [-9.05069582e-01  1.07005089e+00]\n",
            " [ 1.87382167e+00 -1.62150449e-01]\n",
            " [ 1.47683721e+00 -1.13548596e+00]\n",
            " [ 1.47683721e+00 -1.13548596e+00]\n",
            " [ 1.47683721e+00 -6.90236735e-01]\n",
            " [ 1.63563100e+00 -6.07399671e-01]\n",
            " [ 9.21058958e-01  4.86494821e-02]\n",
            " [ 2.85883814e-01  2.31325608e-01]\n",
            " [-1.14326026e+00 -1.33222399e+00]\n",
            " [-1.11100651e-01  7.28347996e-01]\n",
            " [ 1.87382167e+00 -7.52364534e-01]\n",
            " [ 9.21058958e-01 -1.02158499e+00]\n",
            " [ 2.85883814e-01 -1.00022650e-01]\n",
            " [-9.05069582e-01  1.79552443e-01]\n",
            " [-1.38145094e+00 -2.44987513e-01]\n",
            " [ 9.21058958e-01 -1.02158499e+00]\n",
            " [-1.61964162e+00  1.19430648e+00]\n",
            " [ 2.85883814e-01  4.69482169e-01]\n",
            " [-5.08085117e-01  8.00830427e-01]\n",
            " [-1.69903851e+00 -3.78948517e-02]\n",
            " [ 6.82868279e-01 -2.41842500e+00]\n",
            " [-9.05069582e-01 -1.15619522e+00]\n",
            " [ 1.47683721e+00  1.33927135e+00]\n",
            " [-1.11100651e-01  1.10111479e+00]\n",
            " [ 1.23864653e+00 -3.69243110e-01]\n",
            " [-5.08085117e-01 -2.86406046e-01]\n",
            " [ 1.63563100e+00 -2.19165853e+00]\n",
            " [-9.05069582e-01  1.38783136e-02]]\n"
          ],
          "name": "stdout"
        }
      ]
    },
    {
      "cell_type": "code",
      "metadata": {
        "colab": {
          "base_uri": "https://localhost:8080/"
        },
        "id": "u7hsKoGzi-9W",
        "outputId": "54e49d79-5602-46bf-d331-306653e5f74b"
      },
      "source": [
        "print(x_test)"
      ],
      "execution_count": 13,
      "outputs": [
        {
          "output_type": "stream",
          "text": [
            "[[ 0.28588381  0.04864948]\n",
            " [ 0.28588381  0.40735437]\n",
            " [ 1.635631    0.64551093]\n",
            " [-0.82567269  0.12777928]\n",
            " [ 0.28588381  0.04864948]\n",
            " [ 0.68286828 -0.10002265]\n",
            " [ 0.28588381 -0.01718559]\n",
            " [ 1.635631   -2.19165853]\n",
            " [-0.90506958  1.50494548]\n",
            " [-0.6668789   0.73870263]\n",
            " [ 0.92105896  0.04864948]\n",
            " [ 1.07985274  0.06565148]\n",
            " [-1.54024473 -0.45208017]\n",
            " [-0.11110065  0.04864948]\n",
            " [ 0.28588381  0.04864948]\n",
            " [ 2.03261546  0.03458758]\n",
            " [ 0.68286828 -2.418425  ]\n",
            " [-0.90506958  0.21061634]\n",
            " [-1.22265715  0.04864948]\n",
            " [-0.90506958  0.53160997]\n",
            " [ 0.68286828  2.84069314]\n",
            " [ 0.68286828  0.6040924 ]\n",
            " [-0.82567269 -0.38995238]\n",
            " [-0.26989444 -1.09406743]\n",
            " [ 0.28588381  0.39699974]\n",
            " [-0.90506958  1.07005089]\n",
            " [-0.11110065  0.25203487]\n",
            " [-0.03170376 -0.30711531]\n",
            " [ 0.68286828  0.95614992]\n",
            " [-0.50808512  0.5730285 ]\n",
            " [-0.90506958  0.62480167]\n",
            " [-0.11110065 -0.31746994]\n",
            " [-0.90506958  0.03458758]\n",
            " [-1.06386337 -0.15179582]\n",
            " [-0.11110065 -0.56598114]\n",
            " [ 0.4446776  -0.45208017]\n",
            " [-0.11110065  0.81118506]\n",
            " [ 0.68286828 -0.03789485]\n",
            " [ 0.12709003  1.96054933]\n",
            " [-1.30205405 -0.33817921]\n",
            " [ 0.52407449  0.4798368 ]\n",
            " [-0.11110065 -1.12513132]\n",
            " [ 0.12709003  0.46948217]\n",
            " [-0.90506958  0.04864948]\n",
            " [-0.11110065 -0.66952747]\n",
            " [-0.90506958 -0.50385334]\n",
            " [ 0.84166207  0.82153969]\n",
            " [ 0.28588381 -0.57633577]\n",
            " [-0.11110065 -2.03633904]\n",
            " [-0.50808512  0.04864948]\n",
            " [ 1.07985274  1.13217869]\n",
            " [ 0.04769313 -1.07335816]\n",
            " [-0.11110065  0.81118506]\n",
            " [-0.26989444  2.54040878]\n",
            " [-1.30205405 -0.9594572 ]\n",
            " [-0.50808512  1.16324258]\n",
            " [-1.30205405 -0.9594572 ]\n",
            " [ 0.12709003 -0.04824948]\n",
            " [ 0.84166207 -0.24498751]\n",
            " [-1.30205405 -1.27009619]\n",
            " [-0.26989444 -1.09406743]\n",
            " [-0.90506958  0.4487729 ]\n",
            " [ 0.20648692 -0.13108655]\n",
            " [ 1.635631   -0.60739967]\n",
            " [ 1.47683721 -1.13548596]\n",
            " [ 0.68286828 -2.15024   ]\n",
            " [-0.90506958  0.62480167]\n",
            " [-0.90506958  0.07600611]\n",
            " [-0.03170376  0.24168024]\n",
            " [-0.90506958  0.53160997]\n",
            " [ 1.07985274  1.13217869]\n",
            " [ 0.28588381 -0.73165527]\n",
            " [ 1.23864653  1.52565474]\n",
            " [ 1.07985274  0.06565148]\n",
            " [ 1.07985274  0.25203487]\n",
            " [-0.11110065 -1.44612495]\n",
            " [-0.11110065  2.02267713]\n",
            " [ 0.28588381 -0.73165527]\n",
            " [ 1.07985274  0.04864948]\n",
            " [ 1.07985274 -0.11037728]\n",
            " [ 1.23864653  1.52565474]\n",
            " [-0.50808512  0.21061634]\n",
            " [ 0.28588381 -0.22427825]\n",
            " [ 1.31804342  0.18990708]\n",
            " [ 1.23864653 -0.36924311]\n",
            " [ 0.68286828  0.70763873]\n",
            " [ 0.68286828 -0.18285971]\n",
            " [ 0.52407449  0.12777928]\n",
            " [-0.03170376 -1.15619522]\n",
            " [ 2.27080614 -0.33817921]\n",
            " [ 1.47683721  0.04864948]\n",
            " [-1.69903851 -0.03789485]\n",
            " [ 0.68286828  1.34962598]\n",
            " [-0.11110065 -0.03789485]\n",
            " [ 0.84166207  0.15884318]\n",
            " [-0.90506958 -0.27605141]\n",
            " [ 1.47683721 -1.13548596]\n",
            " [-1.30205405  0.04864948]\n",
            " [ 1.07985274 -0.11037728]\n",
            " [-1.30205405  5.00481146]\n",
            " [ 0.68286828 -0.36924311]\n",
            " [-0.05814292 -0.59704504]\n",
            " [-1.30205405  1.35998061]\n",
            " [-1.30205405 -1.22867766]\n",
            " [ 0.28588381 -0.01718559]\n",
            " [-0.90506958  1.41175378]\n",
            " [-0.26989444 -1.41506105]\n",
            " [-0.82567269  0.04864948]\n",
            " [ 1.07985274 -1.36328789]\n",
            " [-1.22265715  0.92508602]\n",
            " [ 0.28588381 -0.24498751]\n",
            " [-0.11110065 -2.03633904]\n",
            " [-0.05814292  1.34962598]\n",
            " [-0.19049754  1.07005089]\n",
            " [ 0.04769313 -0.15179582]\n",
            " [-0.11110065  2.02267713]\n",
            " [-0.50808512  0.04864948]\n",
            " [ 0.28588381  0.04864948]\n",
            " [-0.50808512 -1.21832302]\n",
            " [-0.90506958 -0.7730738 ]\n",
            " [ 1.5562341  -0.28640605]\n",
            " [ 0.68286828 -0.85591086]\n",
            " [-0.90506958 -0.27605141]\n",
            " [-1.30205405 -1.37364252]\n",
            " [-0.50808512  0.11742464]\n",
            " [-0.34929133  1.41175378]\n",
            " [ 0.68286828 -2.15024   ]\n",
            " [ 0.68286828 -0.76271917]\n",
            " [-0.11110065 -0.43137091]]\n"
          ],
          "name": "stdout"
        }
      ]
    },
    {
      "cell_type": "code",
      "metadata": {
        "colab": {
          "base_uri": "https://localhost:8080/"
        },
        "id": "oCXM_qisjCP2",
        "outputId": "1917d87d-adae-47cb-b3c9-bcd2f77a082d"
      },
      "source": [
        "from sklearn.naive_bayes import GaussianNB\n",
        "classifier = GaussianNB()\n",
        "classifier.fit(x_train,y_train)"
      ],
      "execution_count": 14,
      "outputs": [
        {
          "output_type": "execute_result",
          "data": {
            "text/plain": [
              "GaussianNB(priors=None, var_smoothing=1e-09)"
            ]
          },
          "metadata": {
            "tags": []
          },
          "execution_count": 14
        }
      ]
    },
    {
      "cell_type": "code",
      "metadata": {
        "colab": {
          "base_uri": "https://localhost:8080/",
          "height": 402
        },
        "id": "zNDMIezIjgnB",
        "outputId": "23083cc0-522e-488b-8a31-46f8817d883c"
      },
      "source": [
        "y_pred = classifier.predict(x_test)\n",
        "dataset1=pd.DataFrame({'Data Aktual Terkena Gagal Jantung' :y_test,'Data Prediksi Terkena Gagal Jantung':y_pred})\n",
        "dataset1"
      ],
      "execution_count": 15,
      "outputs": [
        {
          "output_type": "execute_result",
          "data": {
            "text/html": [
              "<div>\n",
              "<style scoped>\n",
              "    .dataframe tbody tr th:only-of-type {\n",
              "        vertical-align: middle;\n",
              "    }\n",
              "\n",
              "    .dataframe tbody tr th {\n",
              "        vertical-align: top;\n",
              "    }\n",
              "\n",
              "    .dataframe thead th {\n",
              "        text-align: right;\n",
              "    }\n",
              "</style>\n",
              "<table border=\"1\" class=\"dataframe\">\n",
              "  <thead>\n",
              "    <tr style=\"text-align: right;\">\n",
              "      <th></th>\n",
              "      <th>Data Aktual Terkena Gagal Jantung</th>\n",
              "      <th>Data Prediksi Terkena Gagal Jantung</th>\n",
              "    </tr>\n",
              "  </thead>\n",
              "  <tbody>\n",
              "    <tr>\n",
              "      <th>283</th>\n",
              "      <td>0</td>\n",
              "      <td>0</td>\n",
              "    </tr>\n",
              "    <tr>\n",
              "      <th>100</th>\n",
              "      <td>0</td>\n",
              "      <td>0</td>\n",
              "    </tr>\n",
              "    <tr>\n",
              "      <th>37</th>\n",
              "      <td>1</td>\n",
              "      <td>1</td>\n",
              "    </tr>\n",
              "    <tr>\n",
              "      <th>46</th>\n",
              "      <td>1</td>\n",
              "      <td>0</td>\n",
              "    </tr>\n",
              "    <tr>\n",
              "      <th>374</th>\n",
              "      <td>0</td>\n",
              "      <td>0</td>\n",
              "    </tr>\n",
              "    <tr>\n",
              "      <th>...</th>\n",
              "      <td>...</td>\n",
              "      <td>...</td>\n",
              "    </tr>\n",
              "    <tr>\n",
              "      <th>379</th>\n",
              "      <td>0</td>\n",
              "      <td>0</td>\n",
              "    </tr>\n",
              "    <tr>\n",
              "      <th>49</th>\n",
              "      <td>1</td>\n",
              "      <td>0</td>\n",
              "    </tr>\n",
              "    <tr>\n",
              "      <th>281</th>\n",
              "      <td>0</td>\n",
              "      <td>1</td>\n",
              "    </tr>\n",
              "    <tr>\n",
              "      <th>231</th>\n",
              "      <td>0</td>\n",
              "      <td>0</td>\n",
              "    </tr>\n",
              "    <tr>\n",
              "      <th>124</th>\n",
              "      <td>1</td>\n",
              "      <td>0</td>\n",
              "    </tr>\n",
              "  </tbody>\n",
              "</table>\n",
              "<p>129 rows × 2 columns</p>\n",
              "</div>"
            ],
            "text/plain": [
              "     Data Aktual Terkena Gagal Jantung  Data Prediksi Terkena Gagal Jantung\n",
              "283                                  0                                    0\n",
              "100                                  0                                    0\n",
              "37                                   1                                    1\n",
              "46                                   1                                    0\n",
              "374                                  0                                    0\n",
              "..                                 ...                                  ...\n",
              "379                                  0                                    0\n",
              "49                                   1                                    0\n",
              "281                                  0                                    1\n",
              "231                                  0                                    0\n",
              "124                                  1                                    0\n",
              "\n",
              "[129 rows x 2 columns]"
            ]
          },
          "metadata": {
            "tags": []
          },
          "execution_count": 15
        }
      ]
    },
    {
      "cell_type": "code",
      "metadata": {
        "colab": {
          "base_uri": "https://localhost:8080/"
        },
        "id": "ez5IYB9mlhUr",
        "outputId": "ef13d086-468a-499a-bb23-e242a63c0991"
      },
      "source": [
        "from sklearn.metrics import classification_report\n",
        "print(classification_report(y_test, y_pred))"
      ],
      "execution_count": 16,
      "outputs": [
        {
          "output_type": "stream",
          "text": [
            "              precision    recall  f1-score   support\n",
            "\n",
            "           0       0.66      0.85      0.74        79\n",
            "           1       0.57      0.32      0.41        50\n",
            "\n",
            "    accuracy                           0.64       129\n",
            "   macro avg       0.62      0.58      0.58       129\n",
            "weighted avg       0.63      0.64      0.61       129\n",
            "\n"
          ],
          "name": "stdout"
        }
      ]
    },
    {
      "cell_type": "code",
      "metadata": {
        "colab": {
          "base_uri": "https://localhost:8080/"
        },
        "id": "scuEBqf5lw49",
        "outputId": "ad623503-11c6-4237-e46c-19204168308c"
      },
      "source": [
        "from sklearn.metrics import confusion_matrix\n",
        "print(confusion_matrix(y_test,y_pred))"
      ],
      "execution_count": 17,
      "outputs": [
        {
          "output_type": "stream",
          "text": [
            "[[67 12]\n",
            " [34 16]]\n"
          ],
          "name": "stdout"
        }
      ]
    },
    {
      "cell_type": "code",
      "metadata": {
        "colab": {
          "base_uri": "https://localhost:8080/",
          "height": 366
        },
        "id": "wZGmmYG_mdXu",
        "outputId": "545d27b3-796b-4d2d-b07a-1f3053edc184"
      },
      "source": [
        "from matplotlib.colors import ListedColormap\n",
        "x_set, y_set = x_train, y_train\n",
        "x1, x2 = np.meshgrid(np.arange(start = x_set[:, 0].min()-1, stop = x_set[:, 0].max() + 1, step=0.01),\n",
        "                     np.arange(start = x_set[:, 1].min()-1, stop = x_set[:, 0].max() + 1, step=0.01))\n",
        "plt.contourf(x1,x2, classifier.predict(np.array([x1.ravel(), x2.ravel()]).T).reshape(x1.shape),\n",
        "            alpha = 0.75, cmap= ListedColormap(('blue', 'yellow')))\n",
        "plt.xlim(x1.min(), x1.max())\n",
        "plt.ylim(x2.min(), x2.max())\n",
        "for i, j in enumerate (np.unique(y_set)):\n",
        "  plt.scatter(x_set[y_set == j, 0], x_set[y_set==j, 1],\n",
        "              c = ListedColormap(('blue', 'yellow'))(j), label = j)\n",
        "plt.title('Klasifikasi Data dengan Native Bayes (Data Training)')\n",
        "plt.xlabel('Age (Umur)')\n",
        "plt.ylabel('Platelets (Trombosit)')\n",
        "plt.legend()\n",
        "plt.show"
      ],
      "execution_count": 18,
      "outputs": [
        {
          "output_type": "stream",
          "text": [
            "*c* argument looks like a single numeric RGB or RGBA sequence, which should be avoided as value-mapping will have precedence in case its length matches with *x* & *y*.  Please use the *color* keyword-argument or provide a 2-D array with a single row if you intend to specify the same RGB or RGBA value for all points.\n",
            "*c* argument looks like a single numeric RGB or RGBA sequence, which should be avoided as value-mapping will have precedence in case its length matches with *x* & *y*.  Please use the *color* keyword-argument or provide a 2-D array with a single row if you intend to specify the same RGB or RGBA value for all points.\n"
          ],
          "name": "stderr"
        },
        {
          "output_type": "execute_result",
          "data": {
            "text/plain": [
              "<function matplotlib.pyplot.show>"
            ]
          },
          "metadata": {
            "tags": []
          },
          "execution_count": 18
        },
        {
          "output_type": "display_data",
          "data": {
            "image/png": "[encoded data removed]",
            "text/plain": [
              "<Figure size 432x288 with 1 Axes>"
            ]
          },
          "metadata": {
            "tags": [],
            "needs_background": "light"
          }
        }
      ]
    },
    {
      "cell_type": "code",
      "metadata": {
        "colab": {
          "base_uri": "https://localhost:8080/",
          "height": 349
        },
        "id": "NrN_hAD4E35r",
        "outputId": "1b7e7964-970a-494e-d208-7dfdbec5c5ae"
      },
      "source": [
        "from matplotlib.colors import ListedColormap\n",
        "x_set, y_set = x_test, y_test\n",
        "x1, x2 = np.meshgrid(np.arange(start = x_set[:, 0].min() - 1, stop = x_set[:, 0].max() + 1, step = 0.01),\n",
        "                     np.arange(start = x_set[:, 1].min() - 1, stop = x_set[:, 1].max() + 1, step = 0.01))\n",
        "plt.contourf(x1,x2, classifier.predict(np.array([x1.ravel(), x2.ravel()]).T).reshape(x1.shape),\n",
        "            alpha = 0.75, cmap = ListedColormap(('blue','yellow')))\n",
        "plt.xlim(x1.min(),x1.max())\n",
        "plt.xlim(x2.min(),x2.max())\n",
        "for i,j in enumerate(np.unique(y_set)):\n",
        "  plt.scatter(x_set[y_set == j, 0],x_set[y_set == j, 1],\n",
        "              c = ListedColormap(('blue','yellow'))(i),label = j)\n",
        "plt.title('Klasifikasi Data dengan Naive Bayes(Data Testing)')\n",
        "plt.xlabel('Age (Umur)')\n",
        "plt.ylabel('Platelets (Trombosit)')\n",
        "plt.legend()\n",
        "plt.show()"
      ],
      "execution_count": 19,
      "outputs": [
        {
          "output_type": "stream",
          "text": [
            "*c* argument looks like a single numeric RGB or RGBA sequence, which should be avoided as value-mapping will have precedence in case its length matches with *x* & *y*.  Please use the *color* keyword-argument or provide a 2-D array with a single row if you intend to specify the same RGB or RGBA value for all points.\n",
            "*c* argument looks like a single numeric RGB or RGBA sequence, which should be avoided as value-mapping will have precedence in case its length matches with *x* & *y*.  Please use the *color* keyword-argument or provide a 2-D array with a single row if you intend to specify the same RGB or RGBA value for all points.\n"
          ],
          "name": "stderr"
        },
        {
          "output_type": "display_data",
          "data": {
            "image/png": "[encoded data removed]",
            "text/plain": [
              "<Figure size 432x288 with 1 Axes>"
            ]
          },
          "metadata": {
            "tags": [],
            "needs_background": "light"
          }
        }
      ]
    },
    {
      "cell_type": "code",
      "metadata": {
        "colab": {
          "base_uri": "https://localhost:8080/"
        },
        "id": "iJcD2ZQsGInY",
        "outputId": "9512378a-0a3a-425c-87a9-1962ca176b87"
      },
      "source": [
        "print(accuracy_score(y_test, y_pred)*100)"
      ],
      "execution_count": 20,
      "outputs": [
        {
          "output_type": "stream",
          "text": [
            "64.34108527131784\n"
          ],
          "name": "stdout"
        }
      ]
    }
  ]
}